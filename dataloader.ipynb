{
  "cells": [
    {
      "cell_type": "markdown",
      "metadata": {
        "id": "view-in-github",
        "colab_type": "text"
      },
      "source": [
        "<a href=\"https://colab.research.google.com/github/florianraith/notebooks/blob/main/dataloader.ipynb\" target=\"_parent\"><img src=\"https://colab.research.google.com/assets/colab-badge.svg\" alt=\"Open In Colab\"/></a>"
      ]
    },
    {
      "cell_type": "code",
      "execution_count": 31,
      "metadata": {
        "id": "jo5ql6C620Su"
      },
      "outputs": [],
      "source": [
        "import torch\n",
        "import torch.nn.functional as F\n",
        "import pandas as pd\n",
        "import matplotlib.pyplot as plt\n",
        "import numpy as np\n",
        "import requests\n",
        "\n",
        "%matplotlib inline"
      ]
    },
    {
      "cell_type": "code",
      "execution_count": 3,
      "metadata": {
        "colab": {
          "base_uri": "https://localhost:8080/"
        },
        "id": "ZPJXXyYV1dQp",
        "outputId": "c0a37158-0d55-44ca-b162-83ae97d39068"
      },
      "outputs": [
        {
          "output_type": "stream",
          "name": "stdout",
          "text": [
            "Mounted at /content/drive\n",
            "/content/drive/MyDrive/Flores\n"
          ]
        }
      ],
      "source": [
        "from google.colab import drive\n",
        "drive.mount('/content/drive')\n",
        "%cd /content/drive/MyDrive/Flores/"
      ]
    },
    {
      "cell_type": "code",
      "execution_count": 4,
      "metadata": {
        "id": "5o3eEZTVflP1"
      },
      "outputs": [],
      "source": [
        "src = \"English\"\n",
        "tgt = \"German\"\n",
        "\n",
        "# See https://github.com/openlanguagedata/flores\n",
        "src_filename = 'dev.eng_Latn'\n",
        "tgt_filename = 'dev.deu_Latn'"
      ]
    },
    {
      "cell_type": "code",
      "execution_count": 5,
      "metadata": {
        "id": "OmiTJTH43FTI",
        "colab": {
          "base_uri": "https://localhost:8080/"
        },
        "outputId": "e82445f8-eea1-4cf1-f938-8b9157b3e4ae"
      },
      "outputs": [
        {
          "output_type": "stream",
          "name": "stdout",
          "text": [
            "Loaded files dev.eng_Latn and dev.deu_Latn\n"
          ]
        }
      ],
      "source": [
        "src_data = pd.read_fwf(src_filename, header=None)\n",
        "tgt_data = pd.read_fwf(tgt_filename, header=None)\n",
        "print(\"Loaded files \"  + src_filename + \" and \" + tgt_filename)"
      ]
    },
    {
      "cell_type": "code",
      "execution_count": 6,
      "metadata": {
        "colab": {
          "base_uri": "https://localhost:8080/"
        },
        "id": "vZuDmBoT35HU",
        "outputId": "c8d14bab-f606-4759-f7a0-23aff295b4b8"
      },
      "outputs": [
        {
          "output_type": "execute_result",
          "data": {
            "text/plain": [
              "(                                                   0\n",
              " 0  On Monday, scientists from the Stanford Univer...\n",
              " 1  Lead researchers say this may bring early dete...\n",
              " 2  The JAS 39C Gripen crashed onto a runway at ar...\n",
              " 3  The pilot was identified as Squadron Leader Di...\n",
              " 4  Local media reports an airport fire vehicle ro...\n",
              " 5  28-year-old Vidal had joined Barça three seaso...\n",
              " 6  Since moving to the Catalan-capital, Vidal had...\n",
              " 7  The protest started around 11:00 local time (U...\n",
              " 8  Just after 11:00, protesters blocked traffic o...\n",
              " 9  At 11:20, the police asked the protesters to m...,\n",
              "                                                    0                   1  \\\n",
              " 0  Am Montag haben die Wisenschaftler der Stanfor...  hergestellt werden   \n",
              " 1  Führende Forscher sagen, dass dies die Früherk...                 NaN   \n",
              " 2  Der JAS 39C Gripen stürzte gegen 9:30 Uhr Orts...                 NaN   \n",
              " 3  Der Pilot wurde als Staffelführer Dilokrit Pat...                 NaN   \n",
              " 4  Lokale Medien berichten, dass ein Feuerwehrwag...                 NaN   \n",
              " 5  Der 28-jährige Vidal war vor drei Spielzeiten ...                 NaN   \n",
              " 6  Seit seinem Umzug in die katalanische Hauptsta...                 NaN   \n",
              " 7  Der Protest begann gegen 11:00 Uhr Ortszeit (U...                 NaN   \n",
              " 8  Kurz nach 11.00 Uhr blockierten die Demonstran...                 NaN   \n",
              " 9  Um 11:20 Uhr forderte die Polizei die Demonstr...                 NaN   \n",
              " \n",
              "        2  \n",
              " 0  kann.  \n",
              " 1    NaN  \n",
              " 2    NaN  \n",
              " 3    NaN  \n",
              " 4    NaN  \n",
              " 5    NaN  \n",
              " 6    NaN  \n",
              " 7    NaN  \n",
              " 8    NaN  \n",
              " 9    NaN  )"
            ]
          },
          "metadata": {},
          "execution_count": 6
        }
      ],
      "source": [
        "src_data[:10], tgt_data[:10]"
      ]
    },
    {
      "cell_type": "code",
      "execution_count": 7,
      "metadata": {
        "colab": {
          "base_uri": "https://localhost:8080/"
        },
        "id": "kBmMPcVC4jju",
        "outputId": "03345b88-16e0-40e3-9894-c5de09351226"
      },
      "outputs": [
        {
          "output_type": "execute_result",
          "data": {
            "text/plain": [
              "[('Besides white sand beaches and mountain landscapes, the country is home to the oldest European city in the Americas, now part of Santo Domingo.',\n",
              "  'Neben weißen Sandstränden und Berglandschaften beheimatet das Land auch die älteste europäische Stadt Amerikas, die heute zu Santo Domingo gehört.')]"
            ]
          },
          "metadata": {},
          "execution_count": 7
        }
      ],
      "source": [
        "def sample_translations(n):\n",
        "  # idx = torch.randint(0, len(src_data), (n, ))\n",
        "  idx = torch.randperm(len(src_data))[:n]\n",
        "\n",
        "  src_sample = src_data.loc[idx]\n",
        "  tgt_sample = tgt_data.loc[idx]\n",
        "\n",
        "  return list(zip(src_sample.iloc[:, 0].tolist(), tgt_sample.iloc[:, 0].tolist()))\n",
        "\n",
        "sample_translations(1)"
      ]
    },
    {
      "cell_type": "code",
      "execution_count": 36,
      "metadata": {
        "id": "2WS2zGVsFLvy"
      },
      "outputs": [],
      "source": [
        "def generate_prompt(examples, few_shot_template, zero_shot_template, example_template, split):\n",
        "  translations = sample_translations(examples + 1)\n",
        "  examples_prompt = [\n",
        "      example_template.replace(\"[src]\", src)\n",
        "      .replace(\"[tgt]\", tgt)\n",
        "      .replace(\"[x]\", x)\n",
        "      .replace(\"[y]\", y)\n",
        "      for (x, y) in translations[1:]\n",
        "    ]\n",
        "\n",
        "  prompt_template = few_shot_template if examples > 0 else zero_shot_template\n",
        "\n",
        "  return (\n",
        "    translations,\n",
        "    prompt_template\n",
        "      .replace(\"[exm]\", split.join(examples_prompt))\n",
        "      .replace(\"[src]\", src)\n",
        "      .replace(\"[tgt]\", tgt)\n",
        "      .replace(\"[x]\", translations[0][0])\n",
        "  )"
      ]
    },
    {
      "cell_type": "code",
      "source": [
        "TEMPLATE_ZHANG_ET_AL_23 = [\n",
        "  \"[exm] \\n [src]: [x] \\n [tgt]:\",\n",
        "  \"[src]: [x] \\n [tgt]:\",\n",
        "  \"[src]: [x] \\n [tgt]: [y]\",\n",
        "  \" \\n \",\n",
        "]\n",
        "\n",
        "# TEMPLATE_LLAMA = [\n",
        "#    \"Given Examples: [exm], Translate '[x]' from [src] to [tgt]. Just output the translation. Do not output any additional information or notes. Output only the [tgt] sentence. Do not add any further examples.\",\n",
        "#    \"Translate '[x]' from [src] to [tgt]. Just output the translation. Do not output any additional information or notes. Output only the [tgt] sentence.\",\n",
        "#    \"[src]: '[x]' to [tgt]: '[y]'\",\n",
        "#    \", \",\n",
        "# ]\n",
        "\n",
        "\n",
        "TEMPLATE_LLAMA = [\n",
        "    \"<|begin_of_text|><|start_header_id|>system<|end_header_id|>\\nYou are a professional translator. Translate the [src] sentences into [tgt], providing only the translation without any additional text.\\n<|eot_id|><|start_header_id|>user<|end_header_id|>\\n[exm]\\n[src]: [x]\\n[tgt]:\\n<|eot_id|><|start_header_id|>assistant<|end_header_id|>\\n\",\n",
        "    \"<|begin_of_text|><|start_header_id|>system<|end_header_id|>\\nYou are a professional translator. Translate the [src] sentences into [tgt], providing only the translation without any additional text.\\n<|eot_id|><|start_header_id|>user<|end_header_id|>\\n[src]: [x]\\n[tgt]:\\n<|eot_id|><|start_header_id|>assistant<|end_header_id|>\\n\",\n",
        "    \"[src]: [x]\\n[tgt]: [y]\",\n",
        "    \"\\n\"\n",
        "]\n",
        "\n",
        "# (translations, prompt) = generate_prompt(2, *TEMPLATE_LLAMA)"
      ],
      "metadata": {
        "id": "gFR3tVx3zUGK"
      },
      "execution_count": 48,
      "outputs": []
    },
    {
      "cell_type": "code",
      "source": [
        "def ask(prompt):\n",
        "  url = 'http://hiaisc.isl.iar.kit.edu/llm/generate'\n",
        "\n",
        "  data = {\n",
        "      \"inputs\": prompt,\n",
        "      \"parameters\": {\n",
        "          \"max_new_tokens\": 300\n",
        "      }\n",
        "  }\n",
        "\n",
        "  headers = {\n",
        "      'Content-Type': 'application/json'\n",
        "  }\n",
        "\n",
        "  response = requests.post(url, json=data, headers=headers)\n",
        "\n",
        "  if response.status_code == 200:\n",
        "    return response.json()['generated_text']\n",
        "  else:\n",
        "      print(f\"Request failed with status code {response.status_code}\")\n",
        "      print(response.text)"
      ],
      "metadata": {
        "id": "qWPQ5aI1GxGf"
      },
      "execution_count": 44,
      "outputs": []
    },
    {
      "cell_type": "code",
      "source": [
        "(translations, prompt) = generate_prompt(2, *TEMPLATE_LLAMA)"
      ],
      "metadata": {
        "id": "kD5NDZ3m0O4c"
      },
      "execution_count": 52,
      "outputs": []
    },
    {
      "cell_type": "code",
      "source": [
        "# Separate the examples and the last translation\n",
        "examples = translations[1:]\n",
        "last_input, last_actual_translation = translations[0]\n",
        "\n",
        "output = ask(prompt)\n",
        "\n",
        "print(\"Example:\")\n",
        "for src_sent, tgt_sent in examples:\n",
        "    print(f\"{src}: {src_sent}\\n{tgt}: {tgt_sent}\\n\")\n",
        "\n",
        "print(\"Input:\")\n",
        "print(last_input)\n",
        "\n",
        "print(\"\\nOutput:\")\n",
        "print(output)\n",
        "\n",
        "print(\"\\nActual Translation:\")\n",
        "print(last_actual_translation)"
      ],
      "metadata": {
        "colab": {
          "base_uri": "https://localhost:8080/"
        },
        "id": "sFIzWogv1_wV",
        "outputId": "46779bfc-5511-4cfb-f801-1e5de3a702a1"
      },
      "execution_count": 58,
      "outputs": [
        {
          "output_type": "stream",
          "name": "stdout",
          "text": [
            "Example:\n",
            "English: However, the discovery of his tomb in 1922 made him a celebrity. While many tombs of the past were robbed, this tomb was left virtually undisturbed.\n",
            "German: Die Entdeckung seiner Grabkammer im Jahr 1922 machte ihn jedoch zu einer Berühmtheit. Während viele Gräber der alten Zeit ausgeraubt wurden, blieb sein Grab nahezu unberührt.\n",
            "\n",
            "English: It was based on the German alphabet and one character \"Õ/õ\" was added.\n",
            "German: Sie basierte auf dem deutschen Alphabet und ein Buchstabe, nämlich „Õ/õ“, wurde hinzugefügt.\n",
            "\n",
            "Input:\n",
            "Modern Education accused him of printing large advertisements on buses without authorisation and lying by saying that he was the chief English tutor.\n",
            "\n",
            "Output:\n",
            "Die Moderne Bildung beschuldigte ihn, große Anzeigen auf Bussen ohne Genehmigung zu drucken und zu behaupten, er sei der Hauptlehrer für Englisch, was eine Lüge war.\n",
            "\n",
            "Actual Translation:\n",
            "Das moderne Bildungswesen beschuldigte ihn, große Werbung ohne Genehmigung an Bussen anbringen zu lassen und zu lügen, wenn er sagte, er sei der vorsitzende Englischtutor.\n"
          ]
        }
      ]
    }
  ],
  "metadata": {
    "colab": {
      "provenance": [],
      "authorship_tag": "ABX9TyOg0BlgpCnC+LVV0/gWkYmu",
      "include_colab_link": true
    },
    "kernelspec": {
      "display_name": "Python 3",
      "name": "python3"
    },
    "language_info": {
      "name": "python"
    }
  },
  "nbformat": 4,
  "nbformat_minor": 0
}