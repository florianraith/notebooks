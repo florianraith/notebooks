{
  "cells": [
    {
      "cell_type": "markdown",
      "metadata": {
        "id": "view-in-github",
        "colab_type": "text"
      },
      "source": [
        "<a href=\"https://colab.research.google.com/github/florianraith/notebooks/blob/main/dataloader.ipynb\" target=\"_parent\"><img src=\"https://colab.research.google.com/assets/colab-badge.svg\" alt=\"Open In Colab\"/></a>"
      ]
    },
    {
      "cell_type": "code",
      "execution_count": 62,
      "metadata": {
        "id": "jo5ql6C620Su"
      },
      "outputs": [],
      "source": [
        "import torch\n",
        "import torch.nn.functional as F\n",
        "import pandas as pd\n",
        "import matplotlib.pyplot as plt\n",
        "import numpy as np\n",
        "\n",
        "%matplotlib inline"
      ]
    },
    {
      "cell_type": "code",
      "execution_count": 61,
      "metadata": {
        "colab": {
          "base_uri": "https://localhost:8080/"
        },
        "id": "ZPJXXyYV1dQp",
        "outputId": "18ec6a44-40fb-401f-bdfe-5876f8045d85"
      },
      "outputs": [
        {
          "output_type": "stream",
          "name": "stdout",
          "text": [
            "Drive already mounted at /content/drive; to attempt to forcibly remount, call drive.mount(\"/content/drive\", force_remount=True).\n",
            "/content/drive/MyDrive/Flores\n"
          ]
        }
      ],
      "source": [
        "from google.colab import drive\n",
        "drive.mount('/content/drive')\n",
        "%cd /content/drive/MyDrive/Flores/"
      ]
    },
    {
      "cell_type": "code",
      "execution_count": 82,
      "metadata": {
        "id": "5o3eEZTVflP1"
      },
      "outputs": [],
      "source": [
        "src = \"English\"\n",
        "tgt = \"Dutch\"\n",
        "\n",
        "# See https://github.com/openlanguagedata/flores\n",
        "src_filename = 'dev.eng_Latn'\n",
        "tgt_filename = 'dev.nld_Latn'"
      ]
    },
    {
      "cell_type": "code",
      "execution_count": 77,
      "metadata": {
        "id": "OmiTJTH43FTI",
        "colab": {
          "base_uri": "https://localhost:8080/"
        },
        "outputId": "5fc1893e-ca0e-48ff-d893-a648c66b51b6"
      },
      "outputs": [
        {
          "output_type": "stream",
          "name": "stdout",
          "text": [
            "Loaded files dev.eng_Latn and dev.nld_Latn\n"
          ]
        }
      ],
      "source": [
        "src_data = pd.read_fwf(src_filename, header=None)\n",
        "tgt_data = pd.read_fwf(tgt_filename, header=None)\n",
        "print(\"Loaded files \"  + src_filename + \" and \" + tgt_filename)"
      ]
    },
    {
      "cell_type": "code",
      "execution_count": 83,
      "metadata": {
        "colab": {
          "base_uri": "https://localhost:8080/"
        },
        "id": "vZuDmBoT35HU",
        "outputId": "30ffd110-1484-4930-d74c-a273e07f102a"
      },
      "outputs": [
        {
          "output_type": "execute_result",
          "data": {
            "text/plain": [
              "(                                                   0\n",
              " 0  On Monday, scientists from the Stanford Univer...\n",
              " 1  Lead researchers say this may bring early dete...\n",
              " 2  The JAS 39C Gripen crashed onto a runway at ar...\n",
              " 3  The pilot was identified as Squadron Leader Di...\n",
              " 4  Local media reports an airport fire vehicle ro...\n",
              " 5  28-year-old Vidal had joined Barça three seaso...\n",
              " 6  Since moving to the Catalan-capital, Vidal had...\n",
              " 7  The protest started around 11:00 local time (U...\n",
              " 8  Just after 11:00, protesters blocked traffic o...\n",
              " 9  At 11:20, the police asked the protesters to m...,\n",
              "                                                    0\n",
              " 0  Op maandag kondigden wetenschappers van de Sta...\n",
              " 1  Hoofdonderzoekers zeggen dat dit kan leiden to...\n",
              " 2  De JAS 39C Gripen stortte rond 09.30 uur lokal...\n",
              " 3  De piloot werd geïdentificeerd als majoor Dilo...\n",
              " 4  De lokale media meldt dat er tijdens een actie...\n",
              " 5  De 28-jaar oude Vidal is drie seizoenen gelede...\n",
              " 6  Sinds hij verhuisde naar de Catalaanse hoofdst...\n",
              " 7  Het protest begon rond 11.00 lokale tijd (UTC+...\n",
              " 8  Iets na 11.00 uur begonnen betogers het verkee...\n",
              " 9  Om 11:20 vroeg de politie aan de demonstranten...)"
            ]
          },
          "metadata": {},
          "execution_count": 83
        }
      ],
      "source": [
        "src_data[:10], tgt_data[:10]"
      ]
    },
    {
      "cell_type": "code",
      "execution_count": 73,
      "metadata": {
        "colab": {
          "base_uri": "https://localhost:8080/"
        },
        "id": "kBmMPcVC4jju",
        "outputId": "cf0b8568-833e-4676-acd5-8339a8709d22"
      },
      "outputs": [
        {
          "output_type": "execute_result",
          "data": {
            "text/plain": [
              "[('Photons are even smaller than the stuff that makes up atoms!',\n",
              "  'फोटोनहरू परमाणु बनाउने सामानहरू भन्दा पनि झन साना हुन्छन्!')]"
            ]
          },
          "metadata": {},
          "execution_count": 73
        }
      ],
      "source": [
        "def sample_translations(n):\n",
        "  # idx = torch.randint(0, len(src_data), (n, ))\n",
        "  idx = torch.randperm(len(src_data))[:n]\n",
        "\n",
        "  src_sample = src_data.loc[idx]\n",
        "  tgt_sample = tgt_data.loc[idx]\n",
        "\n",
        "  return list(zip(src_sample.iloc[:, 0].tolist(), tgt_sample.iloc[:, 0].tolist()))\n",
        "\n",
        "sample_translations(1)"
      ]
    },
    {
      "cell_type": "code",
      "execution_count": 66,
      "metadata": {
        "id": "2WS2zGVsFLvy"
      },
      "outputs": [],
      "source": [
        "def generate_prompt(examples, few_shot_template, zero_shot_template, example_template, split):\n",
        "  translations = sample_translations(examples + 1)\n",
        "  examples_prompt = [\n",
        "      example_template.replace(\"[src]\", src)\n",
        "      .replace(\"[tgt]\", tgt)\n",
        "      .replace(\"[x]\", x)\n",
        "      .replace(\"[y]\", y)\n",
        "      for (x, y) in translations[1:]\n",
        "    ]\n",
        "\n",
        "  prompt_template = few_shot_template if examples > 0 else zero_shot_template\n",
        "\n",
        "  return (\n",
        "    prompt_template\n",
        "      .replace(\"[exm]\", split.join(examples_prompt))\n",
        "      .replace(\"[src]\", src)\n",
        "      .replace(\"[tgt]\", tgt)\n",
        "      .replace(\"[x]\", translations[0][0])\n",
        "  )"
      ]
    },
    {
      "cell_type": "code",
      "source": [
        "TEMPLATE_GPT = [\n",
        "  \"[exm]\\n\\n[src]: [x]\\n[tgt]:\",\n",
        "  \"[src]: [x]\\n[tgt]:\",\n",
        "  \"[src]: [x]\\n[tgt]: [y]\",\n",
        "  \"\\n\\n\",\n",
        "]\n",
        "\n",
        "TEMPLATE_LLAMA = [\n",
        "   \"Given Examples: [exm], Translate '[x]' from [src] to [tgt]. Just output the translation. Do not output any additional information or notes. Output only the [tgt] sentence. Do not add any further examples.\",\n",
        "   \"Translate '[x]' from [src] to [tgt]. Just output the translation. Do not output any additional information or notes. Output only the [tgt] sentence.\",\n",
        "   \"[src]: '[x]' to [tgt]: '[y]'\",\n",
        "   \", \",\n",
        "]\n",
        "\n",
        "prompt = generate_prompt(2, *TEMPLATE_LLAMA)\n",
        "\n",
        "prompt"
      ],
      "metadata": {
        "colab": {
          "base_uri": "https://localhost:8080/",
          "height": 125
        },
        "id": "gFR3tVx3zUGK",
        "outputId": "c62b957d-d51e-4db4-b824-f8a9cc1355a3"
      },
      "execution_count": 81,
      "outputs": [
        {
          "output_type": "execute_result",
          "data": {
            "text/plain": [
              "'Given Examples: English: \\'These children tend to get into a lot of trouble, because they \"engage in risky behaviors, get into fights, and challenge authority\" in order to stimulate their brain, since their brain can not be stimulated by normal methods.\\' to Dutch: \\'Deze kinderen werken zich vaak in de nesten omdat ze \\'risicovol gedrag vertonen, ruzie maken en autoriteiten uitdagen\\'. Dit doen ze om hun hersenen te stimuleren, omdat hun hersenen niet te stimuleren zijn met normale methoden.\\', English: \\'The world has over 5,000 different languages, including more than twenty with 50 million or more speakers.\\' to Dutch: \\'Er bestaan wereldwijd meer dan 5000 talen, waarvan meer dan twintig minimaal 50 miljoen sprekers hebben.\\', Translate \\'Only the effects of catastrophizing, not depression and fear was conditional of regular weekly structured PA sessions.\\' from English to Dutch. Just output the translation. Do not output any additional information or notes. Output only the Dutch sentence. Do not add any further examples.'"
            ],
            "application/vnd.google.colaboratory.intrinsic+json": {
              "type": "string"
            }
          },
          "metadata": {},
          "execution_count": 81
        }
      ]
    }
  ],
  "metadata": {
    "colab": {
      "provenance": [],
      "authorship_tag": "ABX9TyMq/vh/522xXrmiiJFGtt+/",
      "include_colab_link": true
    },
    "kernelspec": {
      "display_name": "Python 3",
      "name": "python3"
    },
    "language_info": {
      "name": "python"
    }
  },
  "nbformat": 4,
  "nbformat_minor": 0
}