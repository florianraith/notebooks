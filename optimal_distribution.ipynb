{
  "nbformat": 4,
  "nbformat_minor": 0,
  "metadata": {
    "colab": {
      "provenance": [],
      "authorship_tag": "ABX9TyMVqlPNNaWx/RBRYCJ7KIUy",
      "include_colab_link": true
    },
    "kernelspec": {
      "name": "python3",
      "display_name": "Python 3"
    },
    "language_info": {
      "name": "python"
    }
  },
  "cells": [
    {
      "cell_type": "markdown",
      "metadata": {
        "id": "view-in-github",
        "colab_type": "text"
      },
      "source": [
        "<a href=\"https://colab.research.google.com/github/florianraith/notebooks/blob/main/optimal_distribution.ipynb\" target=\"_parent\"><img src=\"https://colab.research.google.com/assets/colab-badge.svg\" alt=\"Open In Colab\"/></a>"
      ]
    },
    {
      "cell_type": "code",
      "execution_count": null,
      "metadata": {
        "id": "Nw9wgYiHJ54M"
      },
      "outputs": [],
      "source": [
        "def optimal_distribution(x, lengths_quantities):\n",
        "    distributions = []\n",
        "    remaining_lq = dict(lengths_quantities)\n",
        "\n",
        "    while any(n > 0 for _, n in remaining_lq.items()):\n",
        "        distribution_x = []\n",
        "        remaining_x = x\n",
        "\n",
        "        for length, quantity in list(remaining_lq.items()):\n",
        "            max_quantity = min(remaining_x // length, quantity)\n",
        "            if max_quantity > 0:\n",
        "                distribution_x.append((length, max_quantity))\n",
        "                remaining_x -= max_quantity * length\n",
        "                remaining_lq[length] -= max_quantity\n",
        "\n",
        "        if distribution_x:\n",
        "            distributions.append((x, distribution_x))\n",
        "\n",
        "    return distributions"
      ]
    },
    {
      "cell_type": "code",
      "source": [
        "def verify_solution(x, ln, dists):\n",
        "  for (_, lns) in dists:\n",
        "    s = sum(l * n for (l, n) in lns)\n",
        "    if s > x:\n",
        "      print('Verteilung stimmt nicht:', lns, 'addiert sich auf', s)\n",
        "      return False\n",
        "\n",
        "  amounts = { l:0 for (l, _) in ln }\n",
        "\n",
        "  for (_, lns) in dists:\n",
        "    for (l, n) in lns:\n",
        "      amounts[l] += n\n",
        "\n",
        "  for (l, n) in ln:\n",
        "    if amounts[l] != n:\n",
        "      print('Anzahl für', l, 'stimmt nicht, hat nur', amounts[l], 'Einheiten')\n",
        "      return False\n",
        "\n",
        "  return True"
      ],
      "metadata": {
        "id": "A5xL8UWuR0AA"
      },
      "execution_count": null,
      "outputs": []
    },
    {
      "cell_type": "code",
      "source": [
        "x = 100\n",
        "ln = ((30, 14), (20, 10), (4, 5), (70, 2))\n",
        "\n",
        "dist = optimal_distribution(x, ln)\n",
        "if verify_solution(x, ln, dist):\n",
        "  print('Ergebnis ist korrrekt')\n",
        "else:\n",
        "  print('Ergebnis ist nicht korrekt :(')\n",
        "\n",
        "print('')\n",
        "print('Benötigte Anzahl:', len(dist))\n",
        "\n",
        "for i, (_, lns) in enumerate(dist):\n",
        "  print(f\"{i + 1}. Verteilung: {', '.join(str(n) + ' mal von ' + str(l) for (l, n) in lns)}\")"
      ],
      "metadata": {
        "colab": {
          "base_uri": "https://localhost:8080/"
        },
        "id": "spnYFicOKGdl",
        "outputId": "3162dd98-6878-4bf1-878f-0f49c35b3211"
      },
      "execution_count": null,
      "outputs": [
        {
          "output_type": "stream",
          "name": "stdout",
          "text": [
            "Ergebnis ist korrrekt\n",
            "\n",
            "Benötigte Anzahl: 9\n",
            "1. Verteilung: 3 mal von 30, 2 mal von 4\n",
            "2. Verteilung: 3 mal von 30, 2 mal von 4\n",
            "3. Verteilung: 3 mal von 30, 1 mal von 4\n",
            "4. Verteilung: 3 mal von 30\n",
            "5. Verteilung: 2 mal von 30, 2 mal von 20\n",
            "6. Verteilung: 5 mal von 20\n",
            "7. Verteilung: 3 mal von 20\n",
            "8. Verteilung: 1 mal von 70\n",
            "9. Verteilung: 1 mal von 70\n"
          ]
        }
      ]
    }
  ]
}